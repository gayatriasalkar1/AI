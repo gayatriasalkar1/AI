{
  "cells": [
    {
      "cell_type": "code",
      "execution_count": 2,
      "metadata": {
        "colab": {
          "base_uri": "https://localhost:8080/"
        },
        "id": "eKExKS36SMY0",
        "outputId": "01833daa-3e7a-4a61-9500-25433504583d"
      },
      "outputs": [
        {
          "output_type": "stream",
          "name": "stdout",
          "text": [
            "ENTER SOURCE : Arad\n",
            "ENTER GOAL : Sibiu\n",
            "\n",
            "BFS PATH:\n",
            "PATH COST = 140\n",
            "Arad -> Sibiu\n"
          ]
        }
      ],
      "source": [
        "\"\"\"All possible path problem for romanian cities\"\"\"\n",
        "\n",
        "GRAPH = {\\\n",
        "            'Arad': {'Sibiu': 140, 'Zerind': 75, 'Timisoara': 118},\\\n",
        "            'Zerind': {'Arad': 75, 'Oradea': 71},\\\n",
        "            'Oradea': {'Zerind': 71, 'Sibiu': 151},\\\n",
        "            'Sibiu': {'Arad': 140, 'Oradea': 151, 'Fagaras': 99, 'Rimnicu': 80},\\\n",
        "            'Timisoara': {'Arad': 118, 'Lugoj': 111},\\\n",
        "            'Lugoj': {'Timisoara': 111, 'Mehadia': 70},\\\n",
        "            'Mehadia': {'Lugoj': 70, 'Drobeta': 75},\\\n",
        "            'Drobeta': {'Mehadia': 75, 'Craiova': 120},\\\n",
        "            'Craiova': {'Drobeta': 120, 'Rimnicu': 146, 'Pitesti': 138},\\\n",
        "            'Rimnicu': {'Sibiu': 80, 'Craiova': 146, 'Pitesti': 97},\\\n",
        "            'Fagaras': {'Sibiu': 99, 'Bucharest': 211},\\\n",
        "            'Pitesti': {'Rimnicu': 97, 'Craiova': 138, 'Bucharest': 101},\\\n",
        "            'Bucharest': {'Fagaras': 211, 'Pitesti': 101, 'Giurgiu': 90, 'Urziceni': 85},\\\n",
        "            'Giurgiu': {'Bucharest': 90},\\\n",
        "            'Urziceni': {'Bucharest': 85, 'Vaslui': 142, 'Hirsova': 98},\\\n",
        "            'Hirsova': {'Urziceni': 98, 'Eforie': 86},\\\n",
        "            'Eforie': {'Hirsova': 86},\\\n",
        "            'Vaslui': {'Iasi': 92, 'Urziceni': 142},\\\n",
        "            'Iasi': {'Vaslui': 92, 'Neamt': 87},\\\n",
        "            'Neamt': {'Iasi': 87}\\\n",
        "        }\n",
        "\n",
        "def bestfirst(source, destination):\n",
        "    \"\"\"Optimal path from source to destination using straight line distance heuristic\n",
        "\n",
        "    :param source: Source city name\n",
        "    :param destination: Destination city name\n",
        "    :returns: Heuristic value, cost and path for optimal traversal\n",
        "\n",
        "    \"\"\"\n",
        "    # HERE THE STRAIGHT LINE DISTANCE VALUES ARE IN REFERENCE TO BUCHAREST AS THE DESTINATION\n",
        "    straight_line = {\\\n",
        "                        'Arad': 366,\\\n",
        "                        'Zerind': 374,\\\n",
        "                        'Oradea': 380,\\\n",
        "                        'Sibiu': 253,\\\n",
        "                        'Timisoara': 329,\\\n",
        "                        'Lugoj': 244,\\\n",
        "                        'Mehadia': 241,\\\n",
        "                        'Drobeta': 242,\\\n",
        "                        'Craiova': 160,\\\n",
        "                        'Rimnicu': 193,\\\n",
        "                        'Fagaras': 176,\\\n",
        "                        'Pitesti': 100,\\\n",
        "                        'Bucharest': 0,\\\n",
        "                        'Giurgiu': 77,\\\n",
        "                        'Urziceni': 80,\\\n",
        "                        'Hirsova': 151,\\\n",
        "                        'Eforie': 161,\\\n",
        "                        'Vaslui': 199,\\\n",
        "                        'Iasi': 226,\\\n",
        "                        'Neamt': 234\\\n",
        "                    }\n",
        "    from queue import PriorityQueue\n",
        "    priority_queue, visited = PriorityQueue(), {}\n",
        "    priority_queue.put((straight_line[source], 0, source, [source]))\n",
        "    visited[source] = straight_line[source]\n",
        "    while not priority_queue.empty():\n",
        "        (heuristic, cost, vertex, path) = priority_queue.get()\n",
        "        if vertex == destination:\n",
        "            return heuristic, cost, path\n",
        "        for next_node in GRAPH[vertex].keys():\n",
        "            current_cost = cost + GRAPH[vertex][next_node]\n",
        "            heuristic =  straight_line[next_node]\n",
        "            if not next_node in visited or visited[next_node] >= heuristic:\n",
        "                visited[next_node] = heuristic\n",
        "                priority_queue.put((heuristic, current_cost,next_node, path + [next_node]))\n",
        "\n",
        "def main():\n",
        "    \"\"\"Main function\"\"\"\n",
        "    print('ENTER SOURCE :', end=' ')\n",
        "    source = input().strip()\n",
        "    print('ENTER GOAL :', end=' ')\n",
        "    goal = input().strip()\n",
        "    if source not in GRAPH or goal not in GRAPH:\n",
        "        print('ERROR: CITY DOES NOT EXIST.')\n",
        "    else:\n",
        "               print('\\nBFS PATH:')\n",
        "               heuristic, cost, optimal_path = bestfirst(source, goal)\n",
        "               print('PATH COST =', cost)\n",
        "               print(' -> '.join(city for city in optimal_path))\n",
        "     \n",
        "if __name__ == '__main__':\n",
        "    main()"
      ]
    }
  ],
  "metadata": {
    "colab": {
      "provenance": []
    },
    "kernelspec": {
      "display_name": "Python 3",
      "language": "python",
      "name": "python3"
    },
    "language_info": {
      "name": "python",
      "version": "3.11.0 (main, Oct 24 2022, 18:26:48) [MSC v.1933 64 bit (AMD64)]"
    },
    "vscode": {
      "interpreter": {
        "hash": "92a67058b4925847bbbf5f36029f93b1bc20aa5b0e2a3b432e4f405f8be6416a"
      }
    }
  },
  "nbformat": 4,
  "nbformat_minor": 0
}