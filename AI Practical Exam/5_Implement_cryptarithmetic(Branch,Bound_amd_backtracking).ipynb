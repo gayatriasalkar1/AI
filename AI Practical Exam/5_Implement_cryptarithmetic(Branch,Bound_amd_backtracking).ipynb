{
  "nbformat": 4,
  "nbformat_minor": 0,
  "metadata": {
    "colab": {
      "provenance": []
    },
    "kernelspec": {
      "name": "python3",
      "display_name": "Python 3"
    },
    "language_info": {
      "name": "python"
    }
  },
  "cells": [
    {
      "cell_type": "code",
      "execution_count": 1,
      "metadata": {
        "colab": {
          "base_uri": "https://localhost:8080/"
        },
        "id": "yVwY3uZirxIl",
        "outputId": "ab9664cf-1990-4ac8-a3b4-29a861b2041b"
      },
      "outputs": [
        {
          "output_type": "stream",
          "name": "stdout",
          "text": [
            "Enter number of queens :4\n",
            "[['_', '_', '_', '_'], ['_', '_', '_', '_'], ['_', '_', '_', '_'], ['_', '_', '_', '_']]\n",
            "Q _ _ _  \n",
            "_ _ _ _  \n",
            "_ _ _ _  \n",
            "_ _ _ _  \n",
            " \n",
            "Q _ _ _  \n",
            "_ _ _ _  \n",
            "_ Q _ _  \n",
            "_ _ _ _  \n",
            " \n",
            "\n",
            "....BackTracking here...\n",
            "Q _ _ _  \n",
            "_ _ _ _  \n",
            "_ _ _ _  \n",
            "_ Q _ _  \n",
            " \n",
            "Q _ _ _  \n",
            "_ _ Q _  \n",
            "_ _ _ _  \n",
            "_ Q _ _  \n",
            " \n",
            "\n",
            "....BackTracking here...\n",
            "\n",
            "....BackTracking here...\n",
            "\n",
            "....BackTracking here...\n",
            "_ _ _ _  \n",
            "Q _ _ _  \n",
            "_ _ _ _  \n",
            "_ _ _ _  \n",
            " \n",
            "_ _ _ _  \n",
            "Q _ _ _  \n",
            "_ _ _ _  \n",
            "_ Q _ _  \n",
            " \n",
            "_ _ Q _  \n",
            "Q _ _ _  \n",
            "_ _ _ _  \n",
            "_ Q _ _  \n",
            " \n",
            "_ _ Q _  \n",
            "Q _ _ _  \n",
            "_ _ _ Q  \n",
            "_ Q _ _  \n",
            " \n",
            "\n",
            "Final Solution\n",
            "_ _ Q _  \n",
            "Q _ _ _  \n",
            "_ _ _ Q  \n",
            "_ Q _ _  \n"
          ]
        }
      ],
      "source": [
        "N=int(input(\"Enter number of queens :\"))\n",
        "Board=[['_' for x in range(N)] for y in range(N)]\n",
        "print(Board)\n",
        "\n",
        "def printBoard(Board):\n",
        "  for i in Board:\n",
        "    for j in i:\n",
        "      print(j,end =\" \")\n",
        "    print(' ')\n",
        "\n",
        "def isSafe(Board,row,col):\n",
        "  for i in range(col):\n",
        "    if(Board[row][i]=='Q'):\n",
        "      return False\n",
        "  for i,j in zip(range(row,-1,-1),range(col,-1,-1)):\n",
        "    if(Board[i][j]=='Q'):\n",
        "      return False\n",
        "      \n",
        "  for i,j in zip(range(row,N,1),range(col,-1,-1)):\n",
        "    if(Board[i][j]=='Q'):\n",
        "      return False\n",
        "  return True\n",
        "\n",
        "def SolveQueen(Board,col):\n",
        "  if(col>=N):\n",
        "    return True\n",
        "  for i in range(N):\n",
        "    if(isSafe(Board,i,col)==True):\n",
        "      Board[i][col]='Q'\n",
        "      printBoard(Board)\n",
        "      print(' ')\n",
        "      if(SolveQueen(Board,col+1)==True):\n",
        "        return True\n",
        "      Board[i][col]='_'\n",
        "      print (\"\\n....BackTracking here...\")\n",
        "  return False\n",
        "\n",
        "if SolveQueen(Board,0)==False:\n",
        "  print (\"\\nSolution not exist\")\n",
        "else:\n",
        "  print (\"\\nFinal Solution\")\n",
        "  printBoard(Board)"
      ]
    }
  ]
}